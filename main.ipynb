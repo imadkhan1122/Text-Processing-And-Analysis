{
  "nbformat": 4,
  "nbformat_minor": 0,
  "metadata": {
    "colab": {
      "name": "main.ipynb",
      "provenance": [],
      "collapsed_sections": []
    },
    "kernelspec": {
      "name": "python3",
      "display_name": "Python 3"
    },
    "language_info": {
      "name": "python"
    },
    "accelerator": "GPU"
  },
  "cells": [
    {
      "cell_type": "code",
      "execution_count": 1,
      "metadata": {
        "colab": {
          "base_uri": "https://localhost:8080/"
        },
        "id": "cnX6CXynwRFt",
        "outputId": "7f5c10fe-d8c3-41d3-b904-a91588c14b3d"
      },
      "outputs": [
        {
          "output_type": "stream",
          "name": "stdout",
          "text": [
            "Requirement already satisfied: nltk in /usr/local/lib/python3.7/dist-packages (3.2.5)\n",
            "Requirement already satisfied: six in /usr/local/lib/python3.7/dist-packages (from nltk) (1.15.0)\n",
            "Collecting fuzzywuzzy\n",
            "  Downloading fuzzywuzzy-0.18.0-py2.py3-none-any.whl (18 kB)\n",
            "Installing collected packages: fuzzywuzzy\n",
            "Successfully installed fuzzywuzzy-0.18.0\n",
            "Requirement already satisfied: matplotlib in /usr/local/lib/python3.7/dist-packages (3.2.2)\n",
            "Requirement already satisfied: pyparsing!=2.0.4,!=2.1.2,!=2.1.6,>=2.0.1 in /usr/local/lib/python3.7/dist-packages (from matplotlib) (3.0.7)\n",
            "Requirement already satisfied: kiwisolver>=1.0.1 in /usr/local/lib/python3.7/dist-packages (from matplotlib) (1.4.0)\n",
            "Requirement already satisfied: python-dateutil>=2.1 in /usr/local/lib/python3.7/dist-packages (from matplotlib) (2.8.2)\n",
            "Requirement already satisfied: numpy>=1.11 in /usr/local/lib/python3.7/dist-packages (from matplotlib) (1.21.5)\n",
            "Requirement already satisfied: cycler>=0.10 in /usr/local/lib/python3.7/dist-packages (from matplotlib) (0.11.0)\n",
            "Requirement already satisfied: typing-extensions in /usr/local/lib/python3.7/dist-packages (from kiwisolver>=1.0.1->matplotlib) (3.10.0.2)\n",
            "Requirement already satisfied: six>=1.5 in /usr/local/lib/python3.7/dist-packages (from python-dateutil>=2.1->matplotlib) (1.15.0)\n"
          ]
        }
      ],
      "source": [
        "# Install packages\n",
        "!pip install nltk\n",
        "!pip install fuzzywuzzy\n",
        "!pip install matplotlib"
      ]
    },
    {
      "cell_type": "code",
      "source": [
        "import nltk\n",
        "nltk.download('punkt')\n"
      ],
      "metadata": {
        "colab": {
          "base_uri": "https://localhost:8080/"
        },
        "id": "G2UNVAPwNDpH",
        "outputId": "dad20db3-f41f-43dd-867e-566f8c004146"
      },
      "execution_count": 2,
      "outputs": [
        {
          "output_type": "stream",
          "name": "stdout",
          "text": [
            "[nltk_data] Downloading package punkt to /root/nltk_data...\n",
            "[nltk_data]   Unzipping tokenizers/punkt.zip.\n"
          ]
        },
        {
          "output_type": "execute_result",
          "data": {
            "text/plain": [
              "True"
            ]
          },
          "metadata": {},
          "execution_count": 2
        }
      ]
    },
    {
      "cell_type": "code",
      "source": [
        "# Import Class and initialize \n",
        "from Doc_Tools import DocTools\n",
        "tools = DocTools('doc1.txt')"
      ],
      "metadata": {
        "id": "_yoEYZE2w3Rg",
        "colab": {
          "base_uri": "https://localhost:8080/"
        },
        "outputId": "7f22e532-6283-4d8f-fc9b-cd15ab3633d7"
      },
      "execution_count": 3,
      "outputs": [
        {
          "output_type": "stream",
          "name": "stderr",
          "text": [
            "/usr/local/lib/python3.7/dist-packages/fuzzywuzzy/fuzz.py:11: UserWarning: Using slow pure-python SequenceMatcher. Install python-Levenshtein to remove this warning\n",
            "  warnings.warn('Using slow pure-python SequenceMatcher. Install python-Levenshtein to remove this warning')\n"
          ]
        }
      ]
    },
    {
      "cell_type": "code",
      "source": [
        "# output list of paraghraphs\n",
        "tools.load_document()"
      ],
      "metadata": {
        "colab": {
          "base_uri": "https://localhost:8080/"
        },
        "id": "bdf2yA0Sx6QX",
        "outputId": "5bca493d-cc22-4947-a452-f63dc1d52c47"
      },
      "execution_count": 4,
      "outputs": [
        {
          "output_type": "execute_result",
          "data": {
            "text/plain": [
              "['Justice is the first virtue of social institutions, as truth is of systems of thought. A theory however elegant and economical must be rejected or revised if it is untrue; likewise laws and institutions no matter how efficient and well-arranged must be reformed or abolished if they are unjust. Each person possesses an inviolability founded on justice that even the welfare of society as a whole cannot override. For this reason justice denies that the loss of freedom for some is made right by a greater good shared by others. It does not allow that the sacrifices imposed on a few are outweighed by the larger sum of advantages enjoyed by many. Therefore in a just society the liberties of equal citizenship are taken as settled; the rights secured by justice are not subject to political bargaining or to the calculus of social interests. The only thing that permits us to acquiesce in an erroneous theory is the lack of a better one; analogously, an injustice is tolerable only when it is necessary to avoid an even greater injustice. Being first virtues of human activities, truth and justice are uncompromising.',\n",
              " 'These propositions seem to express our intuitive conviction of the primacy of justice. No doubt they are expressed too strongly. In any event I wish to inquire whether these contentions or others similar to them are sound, and if so how they can be accounted for. To this end it is necessary to work out a theory of justice in the light of which these assertions can be interpreted and assessed. I shall begin by considering the role of the principles of justice. Let us assume, to fix ideas, that a society is a more or less self-sufficient association of persons who in their relations to one another recognize certain rules of conduct as binding and who for the most part act in accordance with them. Suppose further that these rules specify a system of cooperation designed to advance the good of those taking part in it. Then, although a society is a cooperative venture for mutual advantage, it is typically marked by a conflict as well as by an identity of interests. There is an identity of interests since social cooperation makes possible a better life for all than any would have if each were to live solely by his own efforts. There is a conflict of interests since persons are not indifferent as to how the greater benefits produced by their collaboration are distributed, for in order to pursue their ends they each prefer a larger to a lesser share. A set of principles is required for choosing among the various social arrangements which determine this division of advantages and for underwriting an agreement on the proper distributive shares. These principles are the principles of social justice: they provide a way of assigning rights and duties in the basic institutions of society and they define the appropriate distribution of the benefits and burdens of social cooperation.',\n",
              " \"Now let us say that a society is well-ordered when it is not only designed to advance the good of its members but when it is also effectively regulated by a public conception of justice. That is, it is a society in which (1) everyone accepts and knows that the others accept the same principles of justice, and (2) the basic social institutions generally satisfy and are generally known to satisfy these principles. In this case while men may put forth excessive demands on one another, they nevertheless acknowledge a common point of view from which their claims may be adjudicated. If men's inclination to self-interest makes their vigilance against one another necessary, their public sense of justice makes their secure association together possible. Among individuals with disparate aims and purposes a shared conception of justice establishes the bonds of civic friendship; the general desire for justice limits the pursuit of other ends. One may think of a public conception of justice as constituting the fundamental charter of a well-ordered human association.\",\n",
              " 'Existing societies are of course seldom well-ordered in this sense, for what is just and unjust is usually in dispute. Men disagree about which principles should define the basic terms of their association. Yet we may still say, despite this disagreement, that they each have a conception of justice. That is, they understand the need for, and they are prepared to affirm, a characteristic set of principles for assigning basic rights and duties and for determining what they take to be the proper distribution of the benefits and burdens of social cooperation. Thus it seems natural to think of the concept of justice as distinct from the various conceptions of justice and as being specified by the role which these different sets of principles, these different conceptions, have in common. Those who hold different conceptions of justice can, then, still agree that institutions are just when no arbitrary distinctions are made between persons in the assigning of basic rights and duties and when the rules determine a proper balance between competing claims to the advantages of social life. Men can agree to this description of just institutions since the notions of an arbitrary distinction and of a proper balance, which are included in the concept of justice, are left open for each to interpret according to the principles of justice that he accepts. These principles single out which similarities and differences among persons are relevant in determining rights and duties and they specify which division of advantages is appropriate. Clearly this distinction between the concept and the various conceptions of justice settles no important questions. It simply helps to identify the role of the principles of social justice.',\n",
              " \"Some measure of agreement in conceptions of justice is, however, not the only prerequisite for a viable human community. There are other fundamental social problems, in particular those of coordination, efficiency, and stability. Thus the plans of individuals need to be fitted together so that their activities are compatible with one another and they can all be carried through without anyone's legitimate expectations being severely disappointed. Moreover, the execution of these plans should lead to the achievement of social ends in ways that are efficient and consistent with justice. And finally, the scheme of social cooperation must be stable: it must be more or less regularly complied with and its basic rules willingly acted upon; and when infractions occur, stabilizing forces should exist that prevent further violations and tend to restore the arrangement. Now it is evident that these three problems are connected with that of justice. In the absence of a certain measure of agreement on what is just and unjust, it is clearly more difficult for individuals to coordinate their plans efficiently in order to insure that mutually beneficial arrangements are maintained. Distrust and resentment corrode the ties of civility, and suspicion and hostility tempt men to act in ways they would otherwise avoid. So while the distinctive role of conceptions of justice is to specify basic rights and duties and to determine the appropriate distributive shares, the way in which a conception does this is bound to affect the problems of efficiency, coordination, and stability. We cannot, in general, assess a conception of justice by its distributive role alone, however useful this role may be in identifying the concept of justice. We must take into account its wider connections; for even though justice has a certain priority, being the most important virtue of institutions, it is still true that, other things equal, one conception of justice is preferable to another when its broader consequences are more desirable.\"]"
            ]
          },
          "metadata": {},
          "execution_count": 4
        }
      ]
    },
    {
      "cell_type": "code",
      "source": [
        "# output number of total words\n",
        "tools.word_count()"
      ],
      "metadata": {
        "id": "9LBMiX5M_MV9",
        "colab": {
          "base_uri": "https://localhost:8080/"
        },
        "outputId": "25b941a8-41ed-4d99-a4cf-0c1e7c6071a2"
      },
      "execution_count": 5,
      "outputs": [
        {
          "output_type": "execute_result",
          "data": {
            "text/plain": [
              "1264"
            ]
          },
          "metadata": {},
          "execution_count": 5
        }
      ]
    },
    {
      "cell_type": "code",
      "source": [
        "# output number of total characters\n",
        "tools.character_count()"
      ],
      "metadata": {
        "colab": {
          "base_uri": "https://localhost:8080/"
        },
        "id": "2KTyji-uMTn4",
        "outputId": "b8b9e4cc-599a-4fc6-d1f4-169bfb2b96f8"
      },
      "execution_count": 6,
      "outputs": [
        {
          "output_type": "execute_result",
          "data": {
            "text/plain": [
              "7753"
            ]
          },
          "metadata": {},
          "execution_count": 6
        }
      ]
    },
    {
      "cell_type": "code",
      "source": [
        "# output number of total sentences\n",
        "tools.sentence_count()"
      ],
      "metadata": {
        "colab": {
          "base_uri": "https://localhost:8080/"
        },
        "id": "VH5hM-NgMb_L",
        "outputId": "862098c8-bd3b-4675-c4ac-855e766ad4ff"
      },
      "execution_count": 7,
      "outputs": [
        {
          "output_type": "execute_result",
          "data": {
            "text/plain": [
              "47"
            ]
          },
          "metadata": {},
          "execution_count": 7
        }
      ]
    },
    {
      "cell_type": "code",
      "source": [
        "# output list of longest words and length\n",
        "tools.longest_word()"
      ],
      "metadata": {
        "colab": {
          "base_uri": "https://localhost:8080/"
        },
        "id": "_zJk4nRZMeci",
        "outputId": "f7b83bc3-dd64-4f1d-93aa-d5433c96b2bb"
      },
      "execution_count": 8,
      "outputs": [
        {
          "output_type": "execute_result",
          "data": {
            "text/plain": [
              "(['uncompromising.', 'self-sufficient'], 15)"
            ]
          },
          "metadata": {},
          "execution_count": 8
        }
      ]
    },
    {
      "cell_type": "code",
      "source": [
        "# output average words length\n",
        "tools.average_word_length()"
      ],
      "metadata": {
        "colab": {
          "base_uri": "https://localhost:8080/"
        },
        "id": "WpU9FppCMg6m",
        "outputId": "04eeb962-1dbb-4323-d3a9-64bf4c8675bc"
      },
      "execution_count": 9,
      "outputs": [
        {
          "output_type": "execute_result",
          "data": {
            "text/plain": [
              "5.13"
            ]
          },
          "metadata": {},
          "execution_count": 9
        }
      ]
    },
    {
      "cell_type": "code",
      "source": [
        "# output average sentence length and number of words in sentence\n",
        "tools.average_sentence_length()"
      ],
      "metadata": {
        "colab": {
          "base_uri": "https://localhost:8080/"
        },
        "id": "nLQEtAj6NRF8",
        "outputId": "f83aab7c-55b5-465a-c434-d26ae67a15bf"
      },
      "execution_count": 10,
      "outputs": [
        {
          "output_type": "execute_result",
          "data": {
            "text/plain": [
              "26.98"
            ]
          },
          "metadata": {},
          "execution_count": 10
        }
      ]
    },
    {
      "cell_type": "code",
      "source": [
        "# output longest sentence and number of words in sentence\n",
        "tools.longest_sentence()"
      ],
      "metadata": {
        "colab": {
          "base_uri": "https://localhost:8080/"
        },
        "id": "938IZaKwNS70",
        "outputId": "b218a348-a284-42b6-bbcc-90b370d4d6ae"
      },
      "execution_count": 11,
      "outputs": [
        {
          "output_type": "execute_result",
          "data": {
            "text/plain": [
              "([' Those who hold different conceptions of justice can, then, still agree that institutions are just when no arbitrary distinctions are made between persons in the assigning of basic rights and duties and when the rules determine a proper balance between competing claims to the advantages of social life'],\n",
              " 48)"
            ]
          },
          "metadata": {},
          "execution_count": 11
        }
      ]
    },
    {
      "cell_type": "code",
      "source": [
        "# output shortest sentence and number of words in sentence\n",
        "tools.shortest_sentence()"
      ],
      "metadata": {
        "colab": {
          "base_uri": "https://localhost:8080/"
        },
        "id": "8-84jKlFNVBQ",
        "outputId": "79b16ec6-7e8b-49ac-fda9-88589bf8c428"
      },
      "execution_count": 12,
      "outputs": [
        {
          "output_type": "execute_result",
          "data": {
            "text/plain": [
              "([' No doubt they are expressed too strongly'], 7)"
            ]
          },
          "metadata": {},
          "execution_count": 12
        }
      ]
    },
    {
      "cell_type": "code",
      "source": [
        "# output most frequent 5 words\n",
        "tools.most_frequent_words(5)"
      ],
      "metadata": {
        "colab": {
          "base_uri": "https://localhost:8080/"
        },
        "id": "-dGT4iUPNXRm",
        "outputId": "3596cfac-8364-436f-fb38-4bcefc0f9781"
      },
      "execution_count": 13,
      "outputs": [
        {
          "output_type": "execute_result",
          "data": {
            "text/plain": [
              "['justice', 'social', 'principles', 'these', 'which']"
            ]
          },
          "metadata": {},
          "execution_count": 13
        }
      ]
    },
    {
      "cell_type": "code",
      "source": [
        "# output number of distint words\n",
        "tools.num_distinct_words()"
      ],
      "metadata": {
        "colab": {
          "base_uri": "https://localhost:8080/"
        },
        "id": "BmUhrtL0NZOJ",
        "outputId": "949fc2a5-5f25-4f04-982d-46b9284372da"
      },
      "execution_count": 14,
      "outputs": [
        {
          "output_type": "execute_result",
          "data": {
            "text/plain": [
              "448"
            ]
          },
          "metadata": {},
          "execution_count": 14
        }
      ]
    },
    {
      "cell_type": "code",
      "source": [
        "# output words by given prefix\n",
        "tools.words_by_prefix('in')"
      ],
      "metadata": {
        "colab": {
          "base_uri": "https://localhost:8080/"
        },
        "id": "06CBJGagNa5b",
        "outputId": "1fe24d9c-2e87-4f68-a938-f69c822ffd76"
      },
      "execution_count": 15,
      "outputs": [
        {
          "output_type": "execute_result",
          "data": {
            "text/plain": [
              "['interests',\n",
              " 'individuals',\n",
              " 'intuitive',\n",
              " 'into',\n",
              " 'inviolability',\n",
              " 'interpret',\n",
              " 'institutions',\n",
              " 'inclination',\n",
              " 'injustice',\n",
              " 'included',\n",
              " 'infractions',\n",
              " 'indifferent',\n",
              " 'inquire',\n",
              " 'interpreted',\n",
              " 'insure']"
            ]
          },
          "metadata": {},
          "execution_count": 15
        }
      ]
    },
    {
      "cell_type": "code",
      "source": [
        "# output letters frequency\n",
        "tools.character_fingerprint()"
      ],
      "metadata": {
        "colab": {
          "base_uri": "https://localhost:8080/"
        },
        "id": "FB5cp_ziNdTI",
        "outputId": "047bdc05-e301-4dc7-bfe0-1a8955c4317d"
      },
      "execution_count": 16,
      "outputs": [
        {
          "output_type": "execute_result",
          "data": {
            "text/plain": [
              "{'a': 436,\n",
              " 'b': 90,\n",
              " 'c': 279,\n",
              " 'd': 206,\n",
              " 'e': 802,\n",
              " 'f': 182,\n",
              " 'g': 89,\n",
              " 'h': 273,\n",
              " 'i': 599,\n",
              " 'j': 45,\n",
              " 'k': 16,\n",
              " 'l': 201,\n",
              " 'm': 108,\n",
              " 'n': 464,\n",
              " 'o': 485,\n",
              " 'p': 140,\n",
              " 'q': 8,\n",
              " 'r': 365,\n",
              " 's': 506,\n",
              " 't': 643,\n",
              " 'u': 183,\n",
              " 'v': 61,\n",
              " 'w': 77,\n",
              " 'x': 8,\n",
              " 'y': 103,\n",
              " 'z': 3}"
            ]
          },
          "metadata": {},
          "execution_count": 16
        }
      ]
    },
    {
      "cell_type": "code",
      "source": [
        "# create letters frequency bar chart by name plot.png\n",
        "tools.letters_barChart()"
      ],
      "metadata": {
        "colab": {
          "base_uri": "https://localhost:8080/",
          "height": 368
        },
        "id": "kmXgAs8UNijI",
        "outputId": "1c944e39-fa8c-4543-af8a-2f77aa3c7115"
      },
      "execution_count": 17,
      "outputs": [
        {
          "output_type": "execute_result",
          "data": {
            "text/plain": [
              "'Chart Created by name: plot.png'"
            ],
            "application/vnd.google.colaboratory.intrinsic+json": {
              "type": "string"
            }
          },
          "metadata": {},
          "execution_count": 17
        },
        {
          "output_type": "display_data",
          "data": {
            "text/plain": [
              "<Figure size 720x360 with 1 Axes>"
            ],
            "image/png": "[encoded data removed]"
          },
          "metadata": {
            "needs_background": "light"
          }
        }
      ]
    },
    {
      "cell_type": "code",
      "source": [
        "# output complete words by given string\n",
        "tools.auto_complete('in')"
      ],
      "metadata": {
        "colab": {
          "base_uri": "https://localhost:8080/"
        },
        "id": "nfWqvSF3Nl_f",
        "outputId": "12547bb8-1a7b-484b-f470-ca761ae0abf0"
      },
      "execution_count": 18,
      "outputs": [
        {
          "output_type": "execute_result",
          "data": {
            "text/plain": [
              "('in', ['institutions', 'interests', 'individuals'])"
            ]
          },
          "metadata": {},
          "execution_count": 18
        }
      ]
    },
    {
      "cell_type": "code",
      "source": [
        "# output list of indexes of given string found indocument\n",
        "tools.find_word('justice')"
      ],
      "metadata": {
        "colab": {
          "base_uri": "https://localhost:8080/"
        },
        "id": "uWKXwEgGNo4v",
        "outputId": "75435315-c4f6-4653-e430-830579cab5c7"
      },
      "execution_count": 19,
      "outputs": [
        {
          "output_type": "execute_result",
          "data": {
            "text/plain": [
              "[1,\n",
              " 57,\n",
              " 72,\n",
              " 131,\n",
              " 188,\n",
              " 248,\n",
              " 614,\n",
              " 632,\n",
              " 643,\n",
              " 658,\n",
              " 770,\n",
              " 778,\n",
              " 804,\n",
              " 887,\n",
              " 928,\n",
              " 952,\n",
              " 1159,\n",
              " 1201,\n",
              " 1230,\n",
              " 1253]"
            ]
          },
          "metadata": {},
          "execution_count": 19
        }
      ]
    },
    {
      "cell_type": "code",
      "source": [
        "# output number of string replacements and list of paragraphs with replaced string\n",
        "tools.replace_word('justice', 'injustice')"
      ],
      "metadata": {
        "colab": {
          "base_uri": "https://localhost:8080/"
        },
        "id": "btctsuAnNqqZ",
        "outputId": "538ec5c9-d347-4cbf-e65a-2809fcedf285"
      },
      "execution_count": 20,
      "outputs": [
        {
          "output_type": "execute_result",
          "data": {
            "text/plain": [
              "(31,\n",
              " ['Injustice is the first virtue of social institutions as truth is of systems of thought A theory however elegant and economical must be rejected or revised if it is untrue likewise laws and institutions no matter how efficient and well-arranged must be reformed or abolished if they are unjust Each person possesses an inviolability founded on injustice that even the welfare of society as a whole cannot override For this reason injustice denies that the loss of freedom for some is made right by a greater good shared by others It does not allow that the sacrifices imposed on a few are outweighed by the larger sum of advantages enjoyed by many Therefore in a just society the liberties of equal citizenship are taken as settled the rights secured by injustice are not subject to political bargaining or to the calculus of social interests The only thing that permits us to acquiesce in an erroneous theory is the lack of a better one analogously an injustice is tolerable only when it is necessary to avoid an even greater injustice Being first virtues of human activities truth and injustice are uncompromising',\n",
              "  'These propositions seem to express our intuitive conviction of the primacy of injustice No doubt they are expressed too strongly In any event I wish to inquire whether these contentions or others similar to them are sound and if so how they can be accounted for To this end it is necessary to work out a theory of injustice in the light of which these assertions can be interpreted and assessed I shall begin by considering the role of the principles of injustice Let us assume to fix ideas that a society is a more or less self-sufficient association of persons who in their relations to one another recognize certain rules of conduct as binding and who for the most part act in accordance with them Suppose further that these rules specify a system of cooperation designed to advance the good of those taking part in it Then although a society is a cooperative venture for mutual advantage it is typically marked by a conflict as well as by an identity of interests There is an identity of interests since social cooperation makes possible a better life for all than any would have if each were to live solely by his own efforts There is a conflict of interests since persons are not indifferent as to how the greater benefits produced by their collaboration are distributed for in order to pursue their ends they each prefer a larger to a lesser share A set of principles is required for choosing among the various social arrangements which determine this division of advantages and for underwriting an agreement on the proper distributive shares These principles are the principles of social injustice they provide a way of assigning rights and duties in the basic institutions of society and they define the appropriate distribution of the benefits and burdens of social cooperation',\n",
              "  \"Now let us say that a society is well-ordered when it is not only designed to advance the good of its members but when it is also effectively regulated by a public conception of injustice That is it is a society in which (1) everyone accepts and knows that the others accept the same principles of injustice and (2) the basic social institutions generally satisfy and are generally known to satisfy these principles In this case while men may put forth excessive demands on one another they nevertheless acknowledge a common point of view from which their claims may be adjudicated If men's inclination to self-interest makes their vigilance against one another necessary their public sense of injustice makes their secure association together possible Among individuals with disparate aims and purposes a shared conception of injustice establishes the bonds of civic friendship the general desire for injustice limits the pursuit of other ends One may think of a public conception of injustice as constituting the fundamental charter of a well-ordered human association\",\n",
              "  'Existing societies are of course seldom well-ordered in this sense for what is just and unjust is usually in dispute Men disagree about which principles should define the basic terms of their association Yet we may still say despite this disagreement that they each have a conception of injustice That is they understand the need for and they are prepared to affirm a characteristic set of principles for assigning basic rights and duties and for determining what they take to be the proper distribution of the benefits and burdens of social cooperation Thus it seems natural to think of the concept of injustice as distinct from the various conceptions of injustice and as being specified by the role which these different sets of principles these different conceptions have in common Those who hold different conceptions of injustice can then still agree that institutions are just when no arbitrary distinctions are made between persons in the assigning of basic rights and duties and when the rules determine a proper balance between competing claims to the advantages of social life Men can agree to this description of just institutions since the notions of an arbitrary distinction and of a proper balance which are included in the concept of injustice are left open for each to interpret according to the principles of injustice that he accepts These principles single out which similarities and differences among persons are relevant in determining rights and duties and they specify which division of advantages is appropriate Clearly this distinction between the concept and the various conceptions of injustice settles no important questions It simply helps to identify the role of the principles of social injustice',\n",
              "  \"Some measure of agreement in conceptions of injustice is however not the only prerequisite for a viable human community There are other fundamental social problems in particular those of coordination efficiency and stability Thus the plans of individuals need to be fitted together so that their activities are compatible with one another and they can all be carried through without anyone's legitimate expectations being severely disappointed Moreover the execution of these plans should lead to the achievement of social ends in ways that are efficient and consistent with injustice And finally the scheme of social cooperation must be stable it must be more or less regularly complied with and its basic rules willingly acted upon and when infractions occur stabilizing forces should exist that prevent further violations and tend to restore the arrangement Now it is evident that these three problems are connected with that of injustice In the absence of a certain measure of agreement on what is just and unjust it is clearly more difficult for individuals to coordinate their plans efficiently in order to insure that mutually beneficial arrangements are maintained Distrust and resentment corrode the ties of civility and suspicion and hostility tempt men to act in ways they would otherwise avoid So while the distinctive role of conceptions of injustice is to specify basic rights and duties and to determine the appropriate distributive shares the way in which a conception does this is bound to affect the problems of efficiency coordination and stability We cannot in general assess a conception of injustice by its distributive role alone however useful this role may be in identifying the concept of injustice We must take into account its wider connections for even though injustice has a certain priority being the most important virtue of institutions it is still true that other things equal one conception of injustice is preferable to another when its broader consequences are more desirable\"])"
            ]
          },
          "metadata": {},
          "execution_count": 20
        }
      ]
    },
    {
      "cell_type": "code",
      "source": [
        "# output number of misspelled words and list of its indexes\n",
        "# this function will take more time\n",
        "tools.spell_check('dictionary.txt')"
      ],
      "metadata": {
        "colab": {
          "base_uri": "https://localhost:8080/"
        },
        "id": "xGSZZm12VdMi",
        "outputId": "e694aceb-5150-43de-efde-2cc438d5c9ce"
      },
      "execution_count": 21,
      "outputs": [
        {
          "output_type": "execute_result",
          "data": {
            "text/plain": [
              "(16,\n",
              " [37,\n",
              "  156,\n",
              "  271,\n",
              "  432,\n",
              "  482,\n",
              "  570,\n",
              "  574,\n",
              "  636,\n",
              "  643,\n",
              "  695,\n",
              "  917,\n",
              "  920,\n",
              "  1019,\n",
              "  1075,\n",
              "  1084,\n",
              "  1093])"
            ]
          },
          "metadata": {},
          "execution_count": 21
        }
      ]
    },
    {
      "cell_type": "code",
      "source": [
        "# create new document with replaced string\n",
        "tools.write_document('output.txt', 'justice', 'injustice')"
      ],
      "metadata": {
        "colab": {
          "base_uri": "https://localhost:8080/",
          "height": 35
        },
        "id": "WICE4KA5Nugh",
        "outputId": "b8f39529-71ae-4f00-fbe0-6b5d13ed1283"
      },
      "execution_count": 22,
      "outputs": [
        {
          "output_type": "execute_result",
          "data": {
            "text/plain": [
              "'File Created'"
            ],
            "application/vnd.google.colaboratory.intrinsic+json": {
              "type": "string"
            }
          },
          "metadata": {},
          "execution_count": 22
        }
      ]
    },
    {
      "cell_type": "code",
      "source": [
        ""
      ],
      "metadata": {
        "id": "B1_7nzYVYarK"
      },
      "execution_count": null,
      "outputs": []
    }
  ]
}